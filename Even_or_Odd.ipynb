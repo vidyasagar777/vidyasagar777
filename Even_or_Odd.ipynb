{
  "nbformat": 4,
  "nbformat_minor": 0,
  "metadata": {
    "colab": {
      "name": "Even or Odd.ipynb",
      "provenance": [],
      "authorship_tag": "ABX9TyOZX8MI7wB8eoajEQ4xBee4",
      "include_colab_link": true
    },
    "kernelspec": {
      "name": "python3",
      "display_name": "Python 3"
    },
    "language_info": {
      "name": "python"
    }
  },
  "cells": [
    {
      "cell_type": "markdown",
      "metadata": {
        "id": "view-in-github",
        "colab_type": "text"
      },
      "source": [
        "<a href=\"https://colab.research.google.com/github/vidyasagar777/vidyasagar777/blob/main/Even_or_Odd.ipynb\" target=\"_parent\"><img src=\"https://colab.research.google.com/assets/colab-badge.svg\" alt=\"Open In Colab\"/></a>"
      ]
    },
    {
      "cell_type": "code",
      "execution_count": 5,
      "metadata": {
        "colab": {
          "base_uri": "https://localhost:8080/"
        },
        "id": "RUJk4d-AekIM",
        "outputId": "f48b106c-3035-4be0-a2e5-f483b073bc1e"
      },
      "outputs": [
        {
          "output_type": "stream",
          "name": "stdout",
          "text": [
            "Enter a number:5\n",
            "Given number is Odd\n"
          ]
        }
      ],
      "source": [
        "import math\n",
        "x = int(input(\"Enter a number:\"))\n",
        "if x%2!=0:\n",
        "  print(\"Given number is Odd\")\n",
        "else:\n",
        "  print(\"Given number is Even\")  "
      ]
    },
    {
      "cell_type": "code",
      "execution_count": null,
      "metadata": {
        "colab": {
          "base_uri": "https://localhost:8080/"
        },
        "outputId": "f48b106c-3035-4be0-a2e5-f483b073bc1e",
        "id": "b145BX84hnZ8"
      },
      "outputs": [
        {
          "output_type": "stream",
          "name": "stdout",
          "text": [
            "Enter a number:5\n",
            "Given number is Odd\n"
          ]
        }
      ],
      "source": [
        "import math\n",
        "x = int(input(\"Enter a number:\"))\n",
        "if x%2==0:\n",
        "  print(\"Given number is Even\")\n",
        "else:\n",
        "  print(\"Given number is Odd\")  "
      ]
    }
  ]
}