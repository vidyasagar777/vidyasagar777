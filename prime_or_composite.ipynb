{
  "nbformat": 4,
  "nbformat_minor": 0,
  "metadata": {
    "colab": {
      "provenance": [],
      "authorship_tag": "ABX9TyMZ8I9B2Va01ato4P/KSKNA",
      "include_colab_link": true
    },
    "kernelspec": {
      "name": "python3",
      "display_name": "Python 3"
    },
    "language_info": {
      "name": "python"
    }
  },
  "cells": [
    {
      "cell_type": "markdown",
      "metadata": {
        "id": "view-in-github",
        "colab_type": "text"
      },
      "source": [
        "<a href=\"https://colab.research.google.com/github/vidyasagar777/vidyasagar777/blob/main/prime_or_composite.ipynb\" target=\"_parent\"><img src=\"https://colab.research.google.com/assets/colab-badge.svg\" alt=\"Open In Colab\"/></a>"
      ]
    },
    {
      "cell_type": "code",
      "execution_count": 51,
      "metadata": {
        "colab": {
          "base_uri": "https://localhost:8080/"
        },
        "id": "sQ_L_k725mZ5",
        "outputId": "03e2a954-df7f-46cf-c47d-a781a3a0ba94"
      },
      "outputs": [
        {
          "output_type": "stream",
          "name": "stdout",
          "text": [
            "Enter a number:2024\n",
            "2024 is a composite number\n"
          ]
        }
      ],
      "source": [
        "n = int(input(\"Enter a number:\"))\n",
        "v=str(n)\n",
        "for i in range(2,n):\n",
        "  if (n%i==0):\n",
        "    print(v + \" is a composite number\")\n",
        "    break\n",
        "  else:\n",
        "    print( v +\" is a Prime Number\")  "
      ]
    },
    {
      "cell_type": "code",
      "source": [
        "import math\n",
        "n = int(input(\"Enter a number: \"))\n",
        "v = str(n)\n",
        "if(n==0 or n==1):\n",
        "  print(v +\" is a Neither Prime Nor Composite\")\n",
        "elif(n>2):\n",
        "  for i in range(2,n):\n",
        "    if(n%i==0):\n",
        "      print( v +\" is a Composite Number\")\n",
        "      break\n",
        "else:\n",
        "      print(v +\" is a Prime number\")  \n"
      ],
      "metadata": {
        "colab": {
          "base_uri": "https://localhost:8080/"
        },
        "id": "yZ-PmOVrC3FA",
        "outputId": "4647838d-fd2c-4165-e9fd-312bfcc57140"
      },
      "execution_count": 85,
      "outputs": [
        {
          "output_type": "stream",
          "name": "stdout",
          "text": [
            "Enter a number: 56\n",
            "56 is a Composite Number\n"
          ]
        }
      ]
    }
  ]
}